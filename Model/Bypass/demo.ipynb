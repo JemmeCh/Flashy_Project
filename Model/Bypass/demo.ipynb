{
 "cells": [
  {
   "cell_type": "code",
   "execution_count": 2,
   "metadata": {},
   "outputs": [
    {
     "name": "stdout",
     "output_type": "stream",
     "text": [
      "CAEN FELib found at: CAEN_FELib.dll (version=1.3.1)\n"
     ]
    }
   ],
   "source": [
    "%matplotlib inline\n",
    "import numpy as np\n",
    "from matplotlib import pyplot as plt\n",
    "import pandas as pd\n",
    "\n",
    "from caen_felib import device, lib\n",
    "\n",
    "# Get CAEN FELib path\n",
    "print(f'CAEN FELib found at: {lib.path} (version={lib.version})')"
   ]
  },
  {
   "cell_type": "markdown",
   "metadata": {},
   "source": [
    "## Connect"
   ]
  },
  {
   "cell_type": "code",
   "execution_count": null,
   "metadata": {},
   "outputs": [
    {
     "ename": "UnicodeDecodeError",
     "evalue": "'utf-8' codec can't decode byte 0xe9 in position 23: invalid continuation byte",
     "output_type": "error",
     "traceback": [
      "\u001b[1;31m---------------------------------------------------------------------------\u001b[0m",
      "\u001b[1;31mUnicodeDecodeError\u001b[0m                        Traceback (most recent call last)",
      "Cell \u001b[1;32mIn[4], line 1\u001b[0m\n\u001b[1;32m----> 1\u001b[0m dig \u001b[38;5;241m=\u001b[39m \u001b[43mdevice\u001b[49m\u001b[38;5;241;43m.\u001b[39;49m\u001b[43mconnect\u001b[49m\u001b[43m(\u001b[49m\u001b[38;5;124;43m'\u001b[39;49m\u001b[38;5;124;43mdig2://caendgtz-eth-16218.caen.local/\u001b[39;49m\u001b[38;5;124;43m'\u001b[39;49m\u001b[43m)\u001b[49m\n\u001b[0;32m      3\u001b[0m \u001b[38;5;28mprint\u001b[39m(\u001b[38;5;124mf\u001b[39m\u001b[38;5;124m'\u001b[39m\u001b[38;5;124mConnected to digitizer (handle=\u001b[39m\u001b[38;5;132;01m{\u001b[39;00m\u001b[38;5;28mhex\u001b[39m(dig\u001b[38;5;241m.\u001b[39mhandle)\u001b[38;5;132;01m}\u001b[39;00m\u001b[38;5;124m, name=\u001b[39m\u001b[38;5;132;01m{\u001b[39;00mdig\u001b[38;5;241m.\u001b[39mname\u001b[38;5;132;01m}\u001b[39;00m\u001b[38;5;124m)\u001b[39m\u001b[38;5;124m'\u001b[39m)\n",
      "File \u001b[1;32mc:\\Users\\p0136329\\AppData\\Local\\Programs\\Python\\Python313\\Lib\\site-packages\\caen_felib\\device.py:546\u001b[0m, in \u001b[0;36mconnect\u001b[1;34m(url)\u001b[0m\n\u001b[0;32m    543\u001b[0m \u001b[38;5;129m@wraps\u001b[39m(Node\u001b[38;5;241m.\u001b[39mopen)\n\u001b[0;32m    544\u001b[0m \u001b[38;5;28;01mdef\u001b[39;00m \u001b[38;5;21mconnect\u001b[39m(url: \u001b[38;5;28mstr\u001b[39m) \u001b[38;5;241m-\u001b[39m\u001b[38;5;241m>\u001b[39m Node:\n\u001b[0;32m    545\u001b[0m \u001b[38;5;250m    \u001b[39m\u001b[38;5;124;03m\"\"\"Binding of Node.open\"\"\"\u001b[39;00m\n\u001b[1;32m--> 546\u001b[0m     \u001b[38;5;28;01mreturn\u001b[39;00m \u001b[43mNode\u001b[49m\u001b[38;5;241;43m.\u001b[39;49m\u001b[43mopen\u001b[49m\u001b[43m(\u001b[49m\u001b[43murl\u001b[49m\u001b[43m)\u001b[49m\n",
      "File \u001b[1;32mc:\\Users\\p0136329\\AppData\\Local\\Programs\\Python\\Python313\\Lib\\site-packages\\caen_felib\\device.py:185\u001b[0m, in \u001b[0;36mNode.open\u001b[1;34m(cls, url)\u001b[0m\n\u001b[0;32m    170\u001b[0m \u001b[38;5;250m\u001b[39m\u001b[38;5;124;03m\"\"\"\u001b[39;00m\n\u001b[0;32m    171\u001b[0m \u001b[38;5;124;03mBinding of CAEN_FELib_Open()\u001b[39;00m\n\u001b[0;32m    172\u001b[0m \n\u001b[1;32m   (...)\u001b[0m\n\u001b[0;32m    182\u001b[0m \u001b[38;5;124;03m@exception\t\t\t\t\terror.Error in case of error\u001b[39;00m\n\u001b[0;32m    183\u001b[0m \u001b[38;5;124;03m\"\"\"\u001b[39;00m\n\u001b[0;32m    184\u001b[0m value \u001b[38;5;241m=\u001b[39m ct\u001b[38;5;241m.\u001b[39mc_uint64()\n\u001b[1;32m--> 185\u001b[0m \u001b[43mlib\u001b[49m\u001b[38;5;241;43m.\u001b[39;49m\u001b[43mopen\u001b[49m\u001b[43m(\u001b[49m\u001b[43m_utils\u001b[49m\u001b[38;5;241;43m.\u001b[39;49m\u001b[43mto_bytes\u001b[49m\u001b[43m(\u001b[49m\u001b[43murl\u001b[49m\u001b[43m)\u001b[49m\u001b[43m,\u001b[49m\u001b[43m \u001b[49m\u001b[43mvalue\u001b[49m\u001b[43m)\u001b[49m\n\u001b[0;32m    186\u001b[0m \u001b[38;5;28;01mreturn\u001b[39;00m \u001b[38;5;28mcls\u001b[39m(value\u001b[38;5;241m.\u001b[39mvalue, \u001b[38;5;28;01mNone\u001b[39;00m)\n",
      "File \u001b[1;32mc:\\Users\\p0136329\\AppData\\Local\\Programs\\Python\\Python313\\Lib\\site-packages\\caen_felib\\lib.py:79\u001b[0m, in \u001b[0;36m_Lib.__api_errcheck\u001b[1;34m(self, res, func, _)\u001b[0m\n\u001b[0;32m     76\u001b[0m \u001b[38;5;28;01mdef\u001b[39;00m \u001b[38;5;21m__api_errcheck\u001b[39m(\u001b[38;5;28mself\u001b[39m, res: \u001b[38;5;28mint\u001b[39m, func: Callable, _: Tuple) \u001b[38;5;241m-\u001b[39m\u001b[38;5;241m>\u001b[39m \u001b[38;5;28mint\u001b[39m:\n\u001b[0;32m     77\u001b[0m     \u001b[38;5;66;03m# res can be positive on GetChildHandles and GetDeviceTree\u001b[39;00m\n\u001b[0;32m     78\u001b[0m     \u001b[38;5;28;01mif\u001b[39;00m res \u001b[38;5;241m<\u001b[39m \u001b[38;5;241m0\u001b[39m:\n\u001b[1;32m---> 79\u001b[0m         \u001b[38;5;28;01mraise\u001b[39;00m error\u001b[38;5;241m.\u001b[39mError(\u001b[38;5;28;43mself\u001b[39;49m\u001b[38;5;241;43m.\u001b[39;49m\u001b[43mlast_error\u001b[49m, res, func\u001b[38;5;241m.\u001b[39m\u001b[38;5;18m__name__\u001b[39m)\n\u001b[0;32m     80\u001b[0m     \u001b[38;5;28;01mreturn\u001b[39;00m res\n",
      "File \u001b[1;32mc:\\Users\\p0136329\\AppData\\Local\\Programs\\Python\\Python313\\Lib\\site-packages\\caen_felib\\lib.py:182\u001b[0m, in \u001b[0;36m_Lib.last_error\u001b[1;34m(self)\u001b[0m\n\u001b[0;32m    179\u001b[0m \u001b[38;5;129m@property\u001b[39m\n\u001b[0;32m    180\u001b[0m \u001b[38;5;28;01mdef\u001b[39;00m \u001b[38;5;21mlast_error\u001b[39m(\u001b[38;5;28mself\u001b[39m) \u001b[38;5;241m-\u001b[39m\u001b[38;5;241m>\u001b[39m \u001b[38;5;28mstr\u001b[39m:\n\u001b[0;32m    181\u001b[0m \u001b[38;5;250m    \u001b[39m\u001b[38;5;124;03m\"\"\"Get last error\"\"\"\u001b[39;00m\n\u001b[1;32m--> 182\u001b[0m     \u001b[38;5;28;01mreturn\u001b[39;00m \u001b[38;5;28;43mself\u001b[39;49m\u001b[38;5;241;43m.\u001b[39;49m\u001b[43mget_last_error\u001b[49m\u001b[43m(\u001b[49m\u001b[43m)\u001b[49m\n",
      "File \u001b[1;32mc:\\Users\\p0136329\\AppData\\Local\\Programs\\Python\\Python313\\Lib\\site-packages\\caen_felib\\lib.py:165\u001b[0m, in \u001b[0;36m_Lib.get_last_error\u001b[1;34m(self)\u001b[0m\n\u001b[0;32m    163\u001b[0m value \u001b[38;5;241m=\u001b[39m ct\u001b[38;5;241m.\u001b[39mcreate_string_buffer(\u001b[38;5;241m1024\u001b[39m)\n\u001b[0;32m    164\u001b[0m \u001b[38;5;28mself\u001b[39m\u001b[38;5;241m.\u001b[39m__get_last_error(value)\n\u001b[1;32m--> 165\u001b[0m \u001b[38;5;28;01mreturn\u001b[39;00m \u001b[43mvalue\u001b[49m\u001b[38;5;241;43m.\u001b[39;49m\u001b[43mvalue\u001b[49m\u001b[38;5;241;43m.\u001b[39;49m\u001b[43mdecode\u001b[49m\u001b[43m(\u001b[49m\u001b[43m)\u001b[49m\n",
      "\u001b[1;31mUnicodeDecodeError\u001b[0m: 'utf-8' codec can't decode byte 0xe9 in position 23: invalid continuation byte"
     ]
    }
   ],
   "source": [
    "# This wont work since we have a digitizer 1.0 (dig1)\n",
    "# See demo_dpp.py for how to set up dig1\n",
    "\n",
    "dig = device.connect('dig2://caendgtz-eth-16218.caen.local/')\n",
    "\n",
    "print(f'Connected to digitizer (handle={hex(dig.handle)}, name={dig.name})')"
   ]
  },
  {
   "cell_type": "markdown",
   "metadata": {},
   "source": [
    "## Example of node browsing"
   ]
  },
  {
   "cell_type": "code",
   "execution_count": null,
   "metadata": {},
   "outputs": [],
   "source": [
    "par_name = 'ITLConnect'\n",
    "\n",
    "# The canonical (and fastest) way to get nodes is by using...\n",
    "par_node = dig.get_node(f'/ch/0/par/{par_name}')\n",
    "\n",
    "# ... but there are several other equivalent ways:\n",
    "assert(par_node == dig[f'ch/0/par/{par_name}'])\n",
    "assert(par_node == dig['ch/0/par'].get_node(f'/{par_name}'))\n",
    "assert(par_node == dig['ch/0/par'][par_name])\n",
    "assert(par_node == dig['ch/0/par'].ITLConnect)  # using __getattr__\n",
    "assert(par_node == dig['ch']['0']['par'][par_name])\n",
    "assert(par_node == dig['ch'][0]['par'][par_name])\n",
    "assert(par_node == dig.ch[0].par[par_name])\n",
    "assert(par_node == dig.ch[0].par.ITLConnect)\n",
    "assert(par_node == dig.CH[0].PAR.itlconnect)  # node name is case insensitive\n",
    "assert(par_node == par_node.child_nodes[0].parent_node)\n",
    "\n",
    "# Browse parameter child nodes (attributes)\n",
    "data = [[c.name, c.value] for c in par_node]\n",
    "pd.DataFrame(data, columns=['Attribute name', 'Value'])\n"
   ]
  },
  {
   "attachments": {},
   "cell_type": "markdown",
   "metadata": {},
   "source": [
    "## Get parameter channel list"
   ]
  },
  {
   "cell_type": "code",
   "execution_count": null,
   "metadata": {},
   "outputs": [],
   "source": [
    "# Browse channel parameters\n",
    "data = [[c.name, c.description.value, c.datatype.value] for c in dig.ch[0].par]\n",
    "pd.DataFrame(data, columns=['Parameter name', 'Description', 'Data type'])"
   ]
  },
  {
   "cell_type": "markdown",
   "metadata": {},
   "source": [
    "## Configure digitizer"
   ]
  },
  {
   "cell_type": "code",
   "execution_count": null,
   "metadata": {},
   "outputs": [],
   "source": [
    "# Reset\n",
    "dig.cmd.Reset()\n",
    "\n",
    "# Configuration parameters\n",
    "nch = int(dig.par.NumCh.value)\n",
    "reclen = 4096\n",
    "\n",
    "# Set some digitizer parameters\n",
    "dig.par.AcqTriggerSource.value = 'SwTrg'\n",
    "dig.par.RecordLengthS.value = f'{reclen}'\n",
    "dig.par.PreTriggerS.value = f'{128}'\n",
    "\n",
    "# Set some channel parameters\n",
    "for ch in dig.ch:\n",
    "\tch.par.DCOffset.value = f'{50}'"
   ]
  },
  {
   "cell_type": "markdown",
   "metadata": {},
   "source": [
    "## Configure endpoint"
   ]
  },
  {
   "cell_type": "code",
   "execution_count": null,
   "metadata": {},
   "outputs": [],
   "source": [
    "data_format = [\n",
    "\t{\n",
    "\t\t'name': 'TIMESTAMP',\n",
    "\t\t'type': 'U64',\n",
    "\t},\n",
    "\t{\n",
    "\t\t'name': 'WAVEFORM',\n",
    "\t\t'type': 'U16',\n",
    "\t\t'dim': 2,\n",
    "\t\t'shape': [nch, reclen],\n",
    "\t},\n",
    "\t{\n",
    "\t\t'name': 'WAVEFORM_SIZE',\n",
    "\t\t'type': 'U64',\n",
    "\t\t'dim': 1,\n",
    "\t\t'shape': [nch],\n",
    "\t},\n",
    "]\n",
    "\n",
    "# set_read_data_format returns allocated buffers\n",
    "data = dig.endpoint.scope.set_read_data_format(data_format)\n",
    "timestamp = data[0].value\n",
    "waveform = data[1].value\n",
    "waveform_size = data[2].value\n",
    "\n",
    "# set enabled endpoint to activate decode\n",
    "dig.endpoint.par.ActiveEndpoint.value = 'scope'\n"
   ]
  },
  {
   "cell_type": "markdown",
   "metadata": {},
   "source": [
    "## Test waveform plot"
   ]
  },
  {
   "cell_type": "code",
   "execution_count": null,
   "metadata": {},
   "outputs": [],
   "source": [
    "# Start acquisition\n",
    "dig.cmd.ArmAcquisition()\n",
    "dig.cmd.SwStartAcquisition()\n",
    "\n",
    "# Send trigger and wait for first event\n",
    "dig.cmd.SendSwTrigger()\n",
    "dig.endpoint.scope.read_data(-1, data)\n",
    "\n",
    "# Stop acquisition\n",
    "dig.cmd.DisarmAcquisition()\n",
    "\n",
    "# Plot waveforms\n",
    "for i in range(nch):\n",
    "    size = waveform_size[i]\n",
    "    plt.plot(np.arange(size), waveform[i][:size])\n",
    "plt.title(f'Timestamp: {timestamp}')\n",
    "plt.show()"
   ]
  },
  {
   "cell_type": "markdown",
   "metadata": {},
   "source": [
    "## Some statistics\n",
    "Following lines assume that all channels are enabled and that all waveforms have the same size, and that the size is equal to the np.ndarray row size."
   ]
  },
  {
   "cell_type": "code",
   "execution_count": null,
   "metadata": {},
   "outputs": [],
   "source": [
    "for s, w in zip(waveform_size, waveform):\n",
    "    if s != w.size:\n",
    "        raise RuntimeError('Invalid waveform size')\n",
    "\n",
    "# Compute statistics\n",
    "waveform_mean = waveform.mean(1)\n",
    "waveform_std = waveform.std(1)\n",
    "corrcoef = np.corrcoef(waveform)\n",
    "\n",
    "fig = plt.figure(figsize=(10, 5))\n",
    "\n",
    "# Plot 1\n",
    "ax1 = fig.add_subplot(121)\n",
    "\n",
    "pl1 = ax1.scatter(waveform_mean, waveform_std)\n",
    "for i in range(len(waveform)):\n",
    "    ax1.annotate(f'{i}', (waveform_mean[i], waveform_std[i]))\n",
    "\n",
    "ax1.set_xlabel('Mean (ADC counts)')\n",
    "ax1.set_ylabel('Standard deviation (ADC counts)')\n",
    "ax1.set_title('Channel waveform statistics')\n",
    "ax1.set_aspect('auto')\n",
    "\n",
    "# Plot 2\n",
    "ax2 = fig.add_subplot(122)\n",
    "pl2 = ax2.imshow(corrcoef, interpolation='nearest')\n",
    "\n",
    "ax2.set_xlabel('Channel')\n",
    "ax2.set_ylabel('Channel')\n",
    "ax2.set_title('Correlation coefficient between channels')\n",
    "ax2.set_aspect('auto')\n",
    "fig.colorbar(pl2)\n",
    "\n",
    "# Show\n",
    "plt.show()"
   ]
  }
 ],
 "metadata": {
  "kernelspec": {
   "display_name": "Python 3",
   "language": "python",
   "name": "python3"
  },
  "language_info": {
   "codemirror_mode": {
    "name": "ipython",
    "version": 3
   },
   "file_extension": ".py",
   "mimetype": "text/x-python",
   "name": "python",
   "nbconvert_exporter": "python",
   "pygments_lexer": "ipython3",
   "version": "3.13.0"
  }
 },
 "nbformat": 4,
 "nbformat_minor": 2
}
